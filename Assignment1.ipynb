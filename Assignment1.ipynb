{
  "nbformat": 4,
  "nbformat_minor": 0,
  "metadata": {
    "colab": {
      "provenance": [],
      "authorship_tag": "ABX9TyNAAkHZo9h1bMILy7D8GLxi"
    },
    "kernelspec": {
      "name": "python3",
      "display_name": "Python 3"
    },
    "language_info": {
      "name": "python"
    }
  },
  "cells": [
    {
      "cell_type": "markdown",
      "source": [
        "#Question1\n",
        "1. Perform arithmetic operations on NumPy arrays."
      ],
      "metadata": {
        "id": "NagoSgfDIgU8"
      }
    },
    {
      "cell_type": "code",
      "source": [
        "import numpy as np\n",
        "\n",
        "a1 = np.array([1, 2, 3])\n",
        "a2 = np.array([4, 5, 6])\n",
        "addition = a1 + a2\n",
        "subtraction = a1 - a2\n",
        "multiplication = a1 * a2\n",
        "division = a1 / a2\n",
        "\n",
        "print(\"Addition:\", addition)\n",
        "print(\"Subtraction:\", subtraction)\n",
        "print(\"Multiplication:\", multiplication)\n",
        "print(\"Division:\", division)"
      ],
      "metadata": {
        "colab": {
          "base_uri": "https://localhost:8080/"
        },
        "id": "CUM0w8ZbIwfP",
        "outputId": "38e818e5-aac8-4ccc-df47-74cb56557c28"
      },
      "execution_count": null,
      "outputs": [
        {
          "output_type": "stream",
          "name": "stdout",
          "text": [
            "Addition: [5 7 9]\n",
            "Subtraction: [-3 -3 -3]\n",
            "Multiplication: [ 4 10 18]\n",
            "Division: [0.25 0.4  0.5 ]\n"
          ]
        }
      ]
    },
    {
      "cell_type": "markdown",
      "source": [
        "#Question 2\n",
        "2. Write a script to compute the mean and standard deviation of a NumPy array."
      ],
      "metadata": {
        "id": "p74fsO5LJkXj"
      }
    },
    {
      "cell_type": "code",
      "source": [
        "array = np.array([10, 20, 30, 40, 50])\n",
        "mean = np.mean(array)\n",
        "std_dev = np.std(array)\n",
        "print(\"Mean:\", mean)\n",
        "print(\"Standard Deviation:\", std_dev)"
      ],
      "metadata": {
        "colab": {
          "base_uri": "https://localhost:8080/"
        },
        "id": "rctHFCcPJsFs",
        "outputId": "d055462f-b1bf-42be-c0b6-09ced2a9d751"
      },
      "execution_count": null,
      "outputs": [
        {
          "output_type": "stream",
          "name": "stdout",
          "text": [
            "Mean: 30.0\n",
            "Standard Deviation: 14.142135623730951\n"
          ]
        }
      ]
    },
    {
      "cell_type": "markdown",
      "source": [
        "#Question 3\n",
        "3. Create a NumPy array of integers from 10 to 50 with a step size of 5.\n"
      ],
      "metadata": {
        "id": "mTS9IPHdKOWl"
      }
    },
    {
      "cell_type": "code",
      "source": [
        "array = np.arange(10, 51, 5)\n",
        "print(\"Array:\", array)"
      ],
      "metadata": {
        "colab": {
          "base_uri": "https://localhost:8080/"
        },
        "id": "2NjiQTPoKTPB",
        "outputId": "dcaa696d-2e0f-4b49-a5be-574fc3c03aab"
      },
      "execution_count": null,
      "outputs": [
        {
          "output_type": "stream",
          "name": "stdout",
          "text": [
            "Array: [10 15 20 25 30 35 40 45 50]\n"
          ]
        }
      ]
    },
    {
      "cell_type": "markdown",
      "source": [
        "#Question 4\n",
        "4. Reshape the array into a 2x4 matrix.\n"
      ],
      "metadata": {
        "id": "sZZxZRw1KcuV"
      }
    },
    {
      "cell_type": "code",
      "source": [
        "array = np.arange(10, 50, 5)\n",
        "reshaped_array = array.reshape(2, 4)\n",
        "print(\"Reshaped Array:\", reshaped_array)"
      ],
      "metadata": {
        "colab": {
          "base_uri": "https://localhost:8080/"
        },
        "id": "N80CPzAlKhzj",
        "outputId": "2a6aa235-4175-480f-b7e4-2a9429084fcc"
      },
      "execution_count": null,
      "outputs": [
        {
          "output_type": "stream",
          "name": "stdout",
          "text": [
            "Reshaped Array: [[10 15 20 25]\n",
            " [30 35 40 45]]\n"
          ]
        }
      ]
    },
    {
      "cell_type": "markdown",
      "source": [
        "#Question 5\n",
        "5. Given the array arr = np.array([[1, 2, 3], [4, 5, 6], [7, 8, 9]]):\n",
        "\n",
        "  • Extract the sub-matrix containing the last two rows and first two columns.\n",
        "\n",
        "  • Replace all elements greater than 4 with 0."
      ],
      "metadata": {
        "id": "NGIwfQgKLfVk"
      }
    },
    {
      "cell_type": "code",
      "source": [
        "arr = np.array([[1, 2, 3], [4, 5, 6], [7, 8, 9]])\n",
        "sub_matrix = arr[1:, :2]\n",
        "print(\"Sub-matrix:\", sub_matrix)\n",
        "arr[arr > 4] = 0\n",
        "print(\"Modified Array:\\n\", arr)"
      ],
      "metadata": {
        "colab": {
          "base_uri": "https://localhost:8080/"
        },
        "id": "x3QcmMQoLoNd",
        "outputId": "81ed0c8e-82ed-4f79-e35b-7c3a81972ce5"
      },
      "execution_count": null,
      "outputs": [
        {
          "output_type": "stream",
          "name": "stdout",
          "text": [
            "Sub-matrix: [[4 5]\n",
            " [7 8]]\n",
            "Modified Array:\n",
            " [[1 2 3]\n",
            " [4 0 0]\n",
            " [0 0 0]]\n"
          ]
        }
      ]
    },
    {
      "cell_type": "markdown",
      "source": [
        "#Question 6\n",
        "6. Create two 1D arrays:\n",
        "\n",
        "   • a = np.array([1, 2, 3])\n",
        "\n",
        "   • b = np.array([4, 5, 6])\n",
        "\n",
        "   • Perform element-wise addition, multiplication, and division."
      ],
      "metadata": {
        "id": "Xc9gCVMcMWLH"
      }
    },
    {
      "cell_type": "markdown",
      "source": [],
      "metadata": {
        "id": "e2Jsms-fMxb8"
      }
    },
    {
      "cell_type": "code",
      "source": [
        "a = np.array([1, 2, 3])\n",
        "b = np.array([4, 5, 6])\n",
        "add = a + b\n",
        "multi = a * b\n",
        "division = a / b\n",
        "print(\"Addition:\", add)\n",
        "print(\"Multiplication:\", multi)\n",
        "print(\"Division:\", division)"
      ],
      "metadata": {
        "colab": {
          "base_uri": "https://localhost:8080/"
        },
        "id": "hHT-YmG5Mjtz",
        "outputId": "bbc2b32b-3df9-4bd3-f4e2-4eeeb3b28721"
      },
      "execution_count": null,
      "outputs": [
        {
          "output_type": "stream",
          "name": "stdout",
          "text": [
            "Addition: [5 7 9]\n",
            "Multiplication: [ 4 10 18]\n",
            "Division: [0.25 0.4  0.5 ]\n"
          ]
        }
      ]
    },
    {
      "cell_type": "markdown",
      "source": [
        "#Question 7\n",
        "7. Create a random NumPy array of size (4, 4). Compute:\n",
        "\n",
        "  • Mean of each column.\n",
        "\n",
        "  • Maximum value of the entire array.\n",
        "  \n",
        "  • Sum of all elements.\n"
      ],
      "metadata": {
        "id": "PDDs5YYYM7-F"
      }
    },
    {
      "cell_type": "code",
      "source": [
        "a = np.random.rand(4,4)\n",
        "column_mean = np.mean(array, axis=0)\n",
        "max_value = np.max(array)\n",
        "total_sum = np.sum(array)\n",
        "print(\"Array:\", array)\n",
        "print(\"Column Means:\", column_mean)\n",
        "print(\"Maximum Value:\", max_value)\n",
        "print(\"Total Sum:\", total_sum)"
      ],
      "metadata": {
        "colab": {
          "base_uri": "https://localhost:8080/"
        },
        "id": "43fWDLC9NXi8",
        "outputId": "bd067d1e-3721-4412-c6de-dab600762f56"
      },
      "execution_count": null,
      "outputs": [
        {
          "output_type": "stream",
          "name": "stdout",
          "text": [
            "Array: [10 15 20 25 30 35 40 45 50]\n",
            "Column Means: 30.0\n",
            "Maximum Value: 50\n",
            "Total Sum: 270\n"
          ]
        }
      ]
    },
    {
      "cell_type": "markdown",
      "source": [
        "#Question 8\n",
        "8.Given the array arr = np.array([1, 2, 3, 4]), add 10 to each element and multiply\n",
        "the result by 2."
      ],
      "metadata": {
        "id": "WIt0Dv_COker"
      }
    },
    {
      "cell_type": "code",
      "source": [
        "arr = np.array([1, 2, 3, 4])\n",
        "new_arr = (arr + 10) * 2\n",
        "print(\"Modified Array:\", new_arr)"
      ],
      "metadata": {
        "colab": {
          "base_uri": "https://localhost:8080/"
        },
        "id": "pu4qvuUdO-q5",
        "outputId": "5c958a32-ae68-4ba3-d899-e51ded6056e4"
      },
      "execution_count": null,
      "outputs": [
        {
          "output_type": "stream",
          "name": "stdout",
          "text": [
            "Modified Array: [22 24 26 28]\n"
          ]
        }
      ]
    },
    {
      "cell_type": "markdown",
      "source": [
        "#Question 9\n",
        "9. Perform advanced slicing and indexing on a 3D array.\n",
        "\n",
        "   Create a 3D NumPy array arr of shape (3, 4, 5) with random integers ranging from  \n",
        "\n",
        "   1 to 100. Perform the following:\n",
        "\n",
        "   • Extract the second \"layer\" (i.e., the second 2D array) in the first dimension.\n",
        "\n",
        "   • Extract the first two rows and the last three columns from each \"layer.\"\n",
        "\n",
        "   • Replace all elements divisible by 3 with -1."
      ],
      "metadata": {
        "id": "8b2yzZWiPTla"
      }
    },
    {
      "cell_type": "code",
      "source": [
        "a = np.random.randint(1, 100, (3, 4, 5))\n",
        "second_layer = a[1]\n",
        "print(\"Second Layer:\", second_layer)\n",
        "sliced = a[:, :2, -3:]\n",
        "print(\"Sliced Array:\", sliced)\n",
        "a[a % 3 == 0] = -1\n",
        "print(\"Modified Array:\", a)"
      ],
      "metadata": {
        "colab": {
          "base_uri": "https://localhost:8080/"
        },
        "id": "M0XUksGASuAG",
        "outputId": "a9282752-2b57-4756-d717-9149811dead9"
      },
      "execution_count": null,
      "outputs": [
        {
          "output_type": "stream",
          "name": "stdout",
          "text": [
            "Second Layer: [[87 26 39  1 22]\n",
            " [15 13 56 21 31]\n",
            " [33 26  3 41 49]\n",
            " [24 86 94 33 15]]\n",
            "Sliced Array: [[[27 74 60]\n",
            "  [51 87  4]]\n",
            "\n",
            " [[39  1 22]\n",
            "  [56 21 31]]\n",
            "\n",
            " [[32 65 42]\n",
            "  [32 55 57]]]\n",
            "Modified Array: [[[-1 38 -1 74 -1]\n",
            "  [-1 -1 -1 -1  4]\n",
            "  [97 -1 -1 92 53]\n",
            "  [88 -1 16 11 -1]]\n",
            "\n",
            " [[-1 26 -1  1 22]\n",
            "  [-1 13 56 -1 31]\n",
            "  [-1 26 -1 41 49]\n",
            "  [-1 86 94 -1 -1]]\n",
            "\n",
            " [[-1 97 32 65 -1]\n",
            "  [95 16 32 55 -1]\n",
            "  [67 40 71 71 47]\n",
            "  [-1 -1 -1 67  8]]]\n"
          ]
        }
      ]
    },
    {
      "cell_type": "markdown",
      "source": [
        "#Question 10\n",
        "10. Work with broadcasting and advanced operations in NumPy.\n",
        "  Create a NumPy array arr of shape (3, 3) with random integers between  \n",
        "   \n",
        "  1 and 20. Perform the following:\n",
        "\n",
        "  • Subtract the mean of each row from its respective elements (row-wise\n",
        "normalization).\n",
        "\n",
        "  • Create a new array by squaring all the elements in arr.\n",
        "\n",
        "  • Find the indices of the top 3 maximum values in the entire array."
      ],
      "metadata": {
        "id": "bm36ndV3ZeZ6"
      }
    },
    {
      "cell_type": "code",
      "source": [
        "import numpy as np\n",
        "arr = np.random.randint(1, 21, size=(3, 3))\n",
        "print(\"Original Array:\")\n",
        "print(arr)\n",
        "row_means = arr.mean(axis=1, keepdims=True)\n",
        "normalized_arr = arr - row_means\n",
        "print(\"\\nRow-wise Normalized Array:\")\n",
        "print(normalized_arr)\n",
        "\n",
        "squared_arr = np.square(arr)\n",
        "print(\"\\nSquared Array:\")\n",
        "print(squared_arr)\n",
        "\n",
        "top_3_indices = np.unravel_index(np.argsort(arr.ravel())[-3:], arr.shape)\n",
        "print(\"\\nIndices of Top 3 Maximum Values:\")\n",
        "print(top_3_indices)\n"
      ],
      "metadata": {
        "colab": {
          "base_uri": "https://localhost:8080/"
        },
        "id": "8K3bngki2zr3",
        "outputId": "37770453-29af-4823-c461-b55d597c95f6"
      },
      "execution_count": null,
      "outputs": [
        {
          "output_type": "stream",
          "name": "stdout",
          "text": [
            "Original Array:\n",
            "[[ 9 18 17]\n",
            " [ 3 19 11]\n",
            " [12 10  6]]\n",
            "\n",
            "Row-wise Normalized Array:\n",
            "[[-5.66666667  3.33333333  2.33333333]\n",
            " [-8.          8.          0.        ]\n",
            " [ 2.66666667  0.66666667 -3.33333333]]\n",
            "\n",
            "Squared Array:\n",
            "[[ 81 324 289]\n",
            " [  9 361 121]\n",
            " [144 100  36]]\n",
            "\n",
            "Indices of Top 3 Maximum Values:\n",
            "(array([0, 0, 1]), array([2, 1, 1]))\n"
          ]
        }
      ]
    }
  ]
}